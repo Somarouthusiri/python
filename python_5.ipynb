{
  "nbformat": 4,
  "nbformat_minor": 0,
  "metadata": {
    "colab": {
      "provenance": [],
      "authorship_tag": "ABX9TyPfE9sIwcjMLy5MC0MB9hUY",
      "include_colab_link": true
    },
    "kernelspec": {
      "name": "python3",
      "display_name": "Python 3"
    },
    "language_info": {
      "name": "python"
    }
  },
  "cells": [
    {
      "cell_type": "markdown",
      "metadata": {
        "id": "view-in-github",
        "colab_type": "text"
      },
      "source": [
        "<a href=\"https://colab.research.google.com/github/Somarouthusiri/python/blob/main/python_5.ipynb\" target=\"_parent\"><img src=\"https://colab.research.google.com/assets/colab-badge.svg\" alt=\"Open In Colab\"/></a>"
      ]
    },
    {
      "cell_type": "code",
      "execution_count": null,
      "metadata": {
        "colab": {
          "base_uri": "https://localhost:8080/"
        },
        "id": "fKFkFJGGTPJy",
        "outputId": "c2d8fa95-462d-4777-b394-25ab4992a8da"
      },
      "outputs": [
        {
          "output_type": "stream",
          "name": "stdout",
          "text": [
            "siri\n",
            "Bhuvaneswari\n",
            "siri\n",
            "D/o rajeswararao\n",
            "d.no 5-12\n",
            "Guntur\n",
            "Duggirala\n",
            "peda kounduru\n"
          ]
        }
      ],
      "source": [
        "print(\"siri\")\n",
        "print(\"Bhuvaneswari\")\n",
        "print(\"siri\")\n",
        "print(\"D/o rajeswararao\")\n",
        "print(\"d.no 5-12\")\n",
        "print(\"Guntur\")\n",
        "print(\"Duggirala\")\n",
        "print(\"peda kounduru\")\n",
        "print(\"\")"
      ]
    },
    {
      "cell_type": "code",
      "source": [
        "A=int(input())\n",
        "B=int(input())\n",
        "C=int(input())\n",
        "if A<B and A<C:\n",
        " print(\"A\")\n",
        "elif B<C and B<A:\n",
        " print(\"B\")\n",
        "else:\n",
        " print(\"C\")"
      ],
      "metadata": {
        "colab": {
          "base_uri": "https://localhost:8080/"
        },
        "id": "K-r0KQ3M9lr-",
        "outputId": "571a24fc-a82c-4456-e7b3-b90833e5b5ef"
      },
      "execution_count": null,
      "outputs": [
        {
          "output_type": "stream",
          "name": "stdout",
          "text": [
            "13\n",
            "4\n",
            "45\n",
            "B\n"
          ]
        }
      ]
    },
    {
      "cell_type": "code",
      "source": [
        "i=1\n",
        "while(i<20):\n",
        "  print(\"\\n\",i,\"address : :\")\n",
        "  print(\"kakinada\")\n",
        "  print(i)\n",
        "  i=i+1\n",
        "   print(\"programme complete\")"
      ],
      "metadata": {
        "id": "x5cAImG4-wB9",
        "colab": {
          "base_uri": "https://localhost:8080/",
          "height": 124
        },
        "outputId": "83ea9753-d234-4147-ca05-7d6673a35791"
      },
      "execution_count": null,
      "outputs": [
        {
          "output_type": "error",
          "ename": "IndentationError",
          "evalue": "unexpected indent (<ipython-input-6-c14c9bef1db8>, line 7)",
          "traceback": [
            "\u001b[0;36m  File \u001b[0;32m\"<ipython-input-6-c14c9bef1db8>\"\u001b[0;36m, line \u001b[0;32m7\u001b[0m\n\u001b[0;31m    print(\"programme complete\")\u001b[0m\n\u001b[0m    ^\u001b[0m\n\u001b[0;31mIndentationError\u001b[0m\u001b[0;31m:\u001b[0m unexpected indent\n"
          ]
        }
      ]
    },
    {
      "cell_type": "code",
      "source": [
        "n=int(input(\"enter a number :\"))\n",
        "i=1\n",
        "while(i<=n):\n",
        "  print(i)\n",
        "  i=i+1"
      ],
      "metadata": {
        "colab": {
          "base_uri": "https://localhost:8080/"
        },
        "id": "o7mcqZ5NiRLZ",
        "outputId": "4faba3a5-f625-4d28-c084-9b737c08110c"
      },
      "execution_count": null,
      "outputs": [
        {
          "output_type": "stream",
          "name": "stdout",
          "text": [
            "enter a number :23\n",
            "1\n",
            "2\n",
            "3\n",
            "4\n",
            "5\n",
            "6\n",
            "7\n",
            "8\n",
            "9\n",
            "10\n",
            "11\n",
            "12\n",
            "13\n",
            "14\n",
            "15\n",
            "16\n",
            "17\n",
            "18\n",
            "19\n",
            "20\n",
            "21\n",
            "22\n",
            "23\n"
          ]
        }
      ]
    },
    {
      "cell_type": "code",
      "source": [
        "n=int(input(\"enter a number:\"))\n",
        "i=1\n",
        "while(i<=n):\n",
        " if(i%2==0):\n",
        "  print(i)\n",
        " i=i+1"
      ],
      "metadata": {
        "colab": {
          "base_uri": "https://localhost:8080/"
        },
        "id": "QYGf4iL0jHrO",
        "outputId": "19d99473-c2c7-432e-9d98-3687c0680967"
      },
      "execution_count": null,
      "outputs": [
        {
          "output_type": "stream",
          "name": "stdout",
          "text": [
            "enter a number:20\n",
            "2\n",
            "4\n",
            "6\n",
            "8\n",
            "10\n",
            "12\n",
            "14\n",
            "16\n",
            "18\n",
            "20\n"
          ]
        }
      ]
    },
    {
      "cell_type": "code",
      "source": [
        "n=int(input(\"enter number:\"))\n",
        "i=1\n",
        "p=1\n",
        "while(i<=n):\n",
        "  p=p*i\n",
        "  i=i+1\n",
        "print(n,\"factorial is\",p)"
      ],
      "metadata": {
        "colab": {
          "base_uri": "https://localhost:8080/"
        },
        "id": "M_WQjK7gnGTp",
        "outputId": "7da78fdb-4f11-44ca-f664-0ff262c60402"
      },
      "execution_count": null,
      "outputs": [
        {
          "output_type": "stream",
          "name": "stdout",
          "text": [
            "enter number:9\n",
            "9 factorial is 362880\n"
          ]
        }
      ]
    }
  ]
}