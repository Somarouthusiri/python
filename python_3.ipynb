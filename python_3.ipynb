{
  "cells": [
    {
      "cell_type": "markdown",
      "metadata": {
        "id": "view-in-github",
        "colab_type": "text"
      },
      "source": [
        "<a href=\"https://colab.research.google.com/github/Somarouthusiri/python/blob/main/python_3.ipynb\" target=\"_parent\"><img src=\"https://colab.research.google.com/assets/colab-badge.svg\" alt=\"Open In Colab\"/></a>"
      ]
    },
    {
      "cell_type": "code",
      "source": [
        "n=int(input())\n",
        "fact=1\n",
        "\n",
        "for i in range(1,n+1):\n",
        "    fact *=i\n",
        "\n",
        "print(fact,end=\" \")"
      ],
      "metadata": {
        "colab": {
          "base_uri": "https://localhost:8080/"
        },
        "id": "sLDLpVvfY3Ef",
        "outputId": "802d2c49-5d10-478e-960c-8df3f7b2bcec"
      },
      "execution_count": null,
      "outputs": [
        {
          "output_type": "stream",
          "name": "stdout",
          "text": [
            "5\n",
            "120 "
          ]
        }
      ]
    },
    {
      "cell_type": "code",
      "source": [
        "num = 1234\n",
        "reversed_num = 0\n",
        "\n",
        "while num > 0:\n",
        "    digit = num % 10\n",
        "    reversed_num = reversed_num * 10 + digit\n",
        "    num = num // 10\n",
        "\n",
        "print(reversed_num)"
      ],
      "metadata": {
        "id": "Q5hPaFL0jYdE",
        "outputId": "49512981-1bbe-497e-df07-5f33036f01e3",
        "colab": {
          "base_uri": "https://localhost:8080/"
        }
      },
      "execution_count": null,
      "outputs": [
        {
          "output_type": "stream",
          "name": "stdout",
          "text": [
            "4321\n"
          ]
        }
      ]
    },
    {
      "cell_type": "code",
      "source": [
        "\n",
        "\n",
        "num = int(input(\"Enter a number: \"))\n",
        "factorial = 1\n",
        "\n",
        "for i in range(1, num + 1):\n",
        "    factorial *= i\n",
        "\n",
        "print(factorial)"
      ],
      "metadata": {
        "colab": {
          "base_uri": "https://localhost:8080/"
        },
        "id": "oxx6UCgdk00Y",
        "outputId": "afd4e8ea-3890-4f45-cc01-3fd58c3905f1"
      },
      "execution_count": null,
      "outputs": [
        {
          "output_type": "stream",
          "name": "stdout",
          "text": [
            "Enter a number: 5\n",
            "120\n"
          ]
        }
      ]
    },
    {
      "cell_type": "code",
      "execution_count": null,
      "metadata": {
        "colab": {
          "background_save": true
        },
        "id": "I57WJwW25Ncy",
        "outputId": "3663c8ce-7f76-4d87-b5a5-69cd503b138a"
      },
      "outputs": [
        {
          "name": "stdout",
          "output_type": "stream",
          "text": [
            "1 2 3 4 5 6 7 8 9 "
          ]
        }
      ],
      "source": [
        "n=input()\n",
        "count=0\n",
        "for i in str(n):\n",
        "   count+=1\n",
        "   print(count,end=\" \")"
      ]
    },
    {
      "cell_type": "code",
      "execution_count": null,
      "metadata": {
        "colab": {
          "base_uri": "https://localhost:8080/"
        },
        "id": "PnOgZIC3Cm2G",
        "outputId": "91d3bc0a-e1c4-44a4-e797-e6ca76f737b7"
      },
      "outputs": [
        {
          "name": "stdout",
          "output_type": "stream",
          "text": [
            "2024\n",
            "leap year\n"
          ]
        }
      ],
      "source": [
        "y=int(input())\n",
        "if(y%4==0 and y%100!=0 or y%400==0):\n",
        "    print(\"leap year\")\n",
        "else:\n",
        "    print(\"not a leap year\")"
      ]
    },
    {
      "cell_type": "code",
      "execution_count": null,
      "metadata": {
        "colab": {
          "base_uri": "https://localhost:8080/"
        },
        "id": "4OOuhyT8t8Yt",
        "outputId": "3aac097b-1abf-4f1a-ff2a-a2cb843208c0"
      },
      "outputs": [
        {
          "name": "stdout",
          "output_type": "stream",
          "text": [
            "Enter a number: 20\n",
            "20 is not a prime number\n"
          ]
        }
      ],
      "source": [
        "num = int(input(\"Enter a number: \"))\n",
        "\n",
        "if num > 1:\n",
        "    for i in range(2, num):\n",
        "        if num % i == 0:\n",
        "            print(num, \"is not a prime number\")\n",
        "            break\n",
        "    else:\n",
        "        print(num, \"is a prime number\")\n",
        "else:\n",
        "    print(num, \"is not a prime number\")"
      ]
    },
    {
      "cell_type": "code",
      "execution_count": null,
      "metadata": {
        "colab": {
          "base_uri": "https://localhost:8080/"
        },
        "id": "wRkgoAVR0J65",
        "outputId": "382542c6-5cf2-4c6b-f65e-6561838d243a"
      },
      "outputs": [
        {
          "name": "stdout",
          "output_type": "stream",
          "text": [
            "Enter a number: 20\n",
            "2 3 5 7 11 13 17 19 "
          ]
        }
      ],
      "source": [
        "n = int(input(\"Enter a number: \"))\n",
        "\n",
        "for num in range(2, n ):\n",
        "    for i in range(2, num):\n",
        "        if num % i == 0:\n",
        "            break\n",
        "    else:\n",
        "          print(num, end=\" \")"
      ]
    },
    {
      "cell_type": "code",
      "execution_count": null,
      "metadata": {
        "colab": {
          "base_uri": "https://localhost:8080/"
        },
        "id": "gH9gIXxZUQVj",
        "outputId": "3362e9f6-f427-4270-eb3e-1a0bee4582fb"
      },
      "outputs": [
        {
          "name": "stdout",
          "output_type": "stream",
          "text": [
            "4\n",
            "* * * * \n",
            "* * * * \n",
            "* * * * \n",
            "* * * * \n"
          ]
        }
      ],
      "source": [
        "a=int(input())\n",
        "for i in range(a):\n",
        "  for j in range(a):\n",
        "    print(\"*\",end=\" \")\n",
        "  print()"
      ]
    },
    {
      "cell_type": "code",
      "execution_count": null,
      "metadata": {
        "colab": {
          "base_uri": "https://localhost:8080/"
        },
        "id": "qnWnFA_TzV7J",
        "outputId": "334d6538-3bdd-4258-b146-5f7c6ab8f4be"
      },
      "outputs": [
        {
          "output_type": "stream",
          "name": "stdout",
          "text": [
            "Enter the number of terms: 7\n",
            "2 1 3 4 7 11 18 "
          ]
        }
      ],
      "source": [
        "n = int(input(\"Enter the number of terms: \"))\n",
        "a, b = 2, 1\n",
        "for i in range(n):\n",
        "    print(a, end=\" \")\n",
        "    a, b = b, a + b"
      ]
    },
    {
      "cell_type": "code",
      "execution_count": null,
      "metadata": {
        "colab": {
          "base_uri": "https://localhost:8080/"
        },
        "id": "mEzmTR1zv2h4",
        "outputId": "2b584eec-1867-4446-f57f-62ead1ee91f8"
      },
      "outputs": [
        {
          "output_type": "stream",
          "name": "stdout",
          "text": [
            "5\n",
            "0 1 3 6 10 15 "
          ]
        }
      ],
      "source": [
        "n=int(input())\n",
        "sum=0\n",
        "for i in range(n+1):\n",
        "  sum+=i\n",
        "  print(sum,end=' ')"
      ]
    },
    {
      "cell_type": "code",
      "execution_count": null,
      "metadata": {
        "colab": {
          "base_uri": "https://localhost:8080/"
        },
        "id": "R4TnY0xwiGW5",
        "outputId": "bcea662a-e72a-4590-bfbf-0061ce62bd40"
      },
      "outputs": [
        {
          "name": "stdout",
          "output_type": "stream",
          "text": [
            "siri is a good girls,siri is bad girl\n",
            "2\n"
          ]
        }
      ],
      "source": [
        "a=input()\n",
        "print(a.count(\"is\"))"
      ]
    },
    {
      "cell_type": "code",
      "execution_count": null,
      "metadata": {
        "colab": {
          "base_uri": "https://localhost:8080/"
        },
        "id": "omaToszhjK-2",
        "outputId": "6deb2a6d-35dd-4c60-e42e-352e100d33ce"
      },
      "outputs": [
        {
          "name": "stdout",
          "output_type": "stream",
          "text": [
            "{2, 3, 4}\n"
          ]
        }
      ],
      "source": [
        "a={1,2,3,4}\n",
        "b={2,3,4,5}\n",
        "c={0,2,3,4}\n",
        "z=a&b&c\n",
        "print(z)"
      ]
    },
    {
      "cell_type": "code",
      "execution_count": null,
      "metadata": {
        "colab": {
          "base_uri": "https://localhost:8080/"
        },
        "id": "HPJPNTQlngl8",
        "outputId": "3a3edcf0-2f6d-49fd-a97c-47caf64d3418"
      },
      "outputs": [
        {
          "name": "stdout",
          "output_type": "stream",
          "text": [
            "sir Bhuvanew\n"
          ]
        }
      ],
      "source": [
        "a=\"siri Bhuvaneswari\"\n",
        "b=\"\"\n",
        "for i in a:\n",
        "  if i not in b:\n",
        "      b=b+i\n",
        "print(b)"
      ]
    }
  ],
  "metadata": {
    "colab": {
      "provenance": [],
      "authorship_tag": "ABX9TyP9FxKWHHFcq9uU9p9LvzcE",
      "include_colab_link": true
    },
    "kernelspec": {
      "display_name": "Python 3",
      "name": "python3"
    },
    "language_info": {
      "name": "python"
    }
  },
  "nbformat": 4,
  "nbformat_minor": 0
}