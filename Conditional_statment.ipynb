{
  "nbformat": 4,
  "nbformat_minor": 0,
  "metadata": {
    "colab": {
      "provenance": [],
      "authorship_tag": "ABX9TyNBl4aeiKHnZQnhgZEHrVfp",
      "include_colab_link": true
    },
    "kernelspec": {
      "name": "python3",
      "display_name": "Python 3"
    },
    "language_info": {
      "name": "python"
    }
  },
  "cells": [
    {
      "cell_type": "markdown",
      "metadata": {
        "id": "view-in-github",
        "colab_type": "text"
      },
      "source": [
        "<a href=\"https://colab.research.google.com/github/Somarouthusiri/python/blob/main/Conditional_statment.ipynb\" target=\"_parent\"><img src=\"https://colab.research.google.com/assets/colab-badge.svg\" alt=\"Open In Colab\"/></a>"
      ]
    },
    {
      "cell_type": "code",
      "execution_count": null,
      "metadata": {
        "id": "upbansE9FAhX",
        "colab": {
          "base_uri": "https://localhost:8080/"
        },
        "outputId": "7b9e7a01-7b70-4534-f9dc-9cca804f9d66"
      },
      "outputs": [
        {
          "output_type": "stream",
          "name": "stdout",
          "text": [
            "Enter the amount:2345\n",
            "it is invalid\n"
          ]
        }
      ],
      "source": [
        "a=int(input(\"Enter the amount:\"))\n",
        "if(100*a==0):\n",
        "   print(\"it is valuable\")\n",
        "else:\n",
        "   print(\"it is invalid\")"
      ]
    },
    {
      "cell_type": "code",
      "source": [
        "s=int(input(\"Enter total purchase amount:\"))\n",
        "if(s>5000):\n",
        "  print(\"20% discount\")\n",
        "  a=s*0.20\n",
        "  print (\"Final price:\",s-a)\n",
        "elif(2000<s<5000):\n",
        "  print(\"10% discount\")\n",
        "  b=s*0.10\n",
        "  print(\"Final price:\",s-b)\n",
        "else:\n",
        "  print(\"no discount\")"
      ],
      "metadata": {
        "colab": {
          "base_uri": "https://localhost:8080/"
        },
        "id": "oYZef5QsH8Q_",
        "outputId": "f397b84c-a4ef-45ac-be68-f36d1b16d6c6"
      },
      "execution_count": null,
      "outputs": [
        {
          "output_type": "stream",
          "name": "stdout",
          "text": [
            "Enter total purchase amount:4000\n",
            "10% discount\n",
            "Final price: 3600.0\n"
          ]
        }
      ]
    },
    {
      "cell_type": "code",
      "source": [
        "a=int(input(\"Enter your age:\"))\n",
        "if(a<5):\n",
        " print(\"ticket price:Free\")\n",
        "elif(5<a<18):\n",
        " print(\"ticket price:100/-\")\n",
        "else:\n",
        " print(\"ticket price:200/-\")"
      ],
      "metadata": {
        "colab": {
          "base_uri": "https://localhost:8080/"
        },
        "id": "yZjgIa8wnoYJ",
        "outputId": "23f091c7-221d-4f89-9f29-5e3d5fed1ac7"
      },
      "execution_count": null,
      "outputs": [
        {
          "output_type": "stream",
          "name": "stdout",
          "text": [
            "Enter your age:40\n",
            "ticket price:200/-\n"
          ]
        }
      ]
    },
    {
      "cell_type": "code",
      "source": [
        "a=int(input(\"Enter electricity units consumed:\"))\n",
        "if(a<=100):\n",
        " print(\"price is:\",a*5)\n",
        "elif(101<=a<=300):\n",
        " print(\"price is:\",a*8)\n",
        "else:\n",
        " print(\"price is:\",a*10)"
      ],
      "metadata": {
        "colab": {
          "base_uri": "https://localhost:8080/"
        },
        "id": "Ma21PwpKplC7",
        "outputId": "0addf619-1214-4e3b-ebd4-cd557384ae37"
      },
      "execution_count": null,
      "outputs": [
        {
          "output_type": "stream",
          "name": "stdout",
          "text": [
            "Enter electricity units consumed:500\n",
            "price is: 5000\n"
          ]
        }
      ]
    }
  ]
}