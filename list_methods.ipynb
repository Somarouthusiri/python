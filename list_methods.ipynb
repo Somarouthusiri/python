{
  "nbformat": 4,
  "nbformat_minor": 0,
  "metadata": {
    "colab": {
      "provenance": [],
      "authorship_tag": "ABX9TyOppgvhVT5mUWcu34rzwgt2",
      "include_colab_link": true
    },
    "kernelspec": {
      "name": "python3",
      "display_name": "Python 3"
    },
    "language_info": {
      "name": "python"
    }
  },
  "cells": [
    {
      "cell_type": "markdown",
      "metadata": {
        "id": "view-in-github",
        "colab_type": "text"
      },
      "source": [
        "<a href=\"https://colab.research.google.com/github/Somarouthusiri/python/blob/main/list_methods.ipynb\" target=\"_parent\"><img src=\"https://colab.research.google.com/assets/colab-badge.svg\" alt=\"Open In Colab\"/></a>"
      ]
    },
    {
      "cell_type": "code",
      "execution_count": null,
      "metadata": {
        "colab": {
          "base_uri": "https://localhost:8080/"
        },
        "id": "FuXbx4uHKRru",
        "outputId": "2c29af56-ceba-4e31-908c-b116a5f7218a"
      },
      "outputs": [
        {
          "output_type": "stream",
          "name": "stdout",
          "text": [
            "['apple', 'banana', 'cherry', 'grapes']\n"
          ]
        }
      ],
      "source": [
        "\n",
        "G=[\"apple\",\"banana\",\"cherry\"]\n",
        "G.append(\"grapes\")\n",
        "print(G)"
      ]
    },
    {
      "cell_type": "code",
      "source": [
        "t = [\"apple\", \"banana\", \"cherry\"]\n",
        "t.remove(\"banana\")\n",
        "print(t)"
      ],
      "metadata": {
        "colab": {
          "base_uri": "https://localhost:8080/"
        },
        "id": "Qja9Aw2CKXjq",
        "outputId": "975ee6a6-3bc3-4390-bfe5-fb7596ac4f38"
      },
      "execution_count": null,
      "outputs": [
        {
          "output_type": "stream",
          "name": "stdout",
          "text": [
            "['apple', 'cherry']\n"
          ]
        }
      ]
    },
    {
      "cell_type": "code",
      "source": [
        "h=[\"5\",\"6\",\"7\"]\n",
        "h.copy()\n",
        "print(h)"
      ],
      "metadata": {
        "colab": {
          "base_uri": "https://localhost:8080/"
        },
        "id": "7NXt8P76KcgY",
        "outputId": "d65dd457-6367-4ba6-dea1-9c0747781dba"
      },
      "execution_count": null,
      "outputs": [
        {
          "output_type": "stream",
          "name": "stdout",
          "text": [
            "['5', '6', '7']\n"
          ]
        }
      ]
    },
    {
      "cell_type": "code",
      "source": [
        "h=[\"s\",\"t\",\"u\"]\n",
        "h.reverse()\n",
        "print(h)"
      ],
      "metadata": {
        "colab": {
          "base_uri": "https://localhost:8080/"
        },
        "id": "JnNzLKT7KhC4",
        "outputId": "8c550ab4-c1b1-4bfc-efdf-3528d247f89b"
      },
      "execution_count": null,
      "outputs": [
        {
          "output_type": "stream",
          "name": "stdout",
          "text": [
            "['u', 't', 's']\n"
          ]
        }
      ]
    },
    {
      "cell_type": "code",
      "source": [
        "h=[\"e\",\"y\",\"u\"]\n",
        "h.sort()\n",
        "print(h)"
      ],
      "metadata": {
        "colab": {
          "base_uri": "https://localhost:8080/"
        },
        "id": "r1tkNWn5Kkmm",
        "outputId": "9148491d-9b62-4f96-f299-58fe6e54686b"
      },
      "execution_count": null,
      "outputs": [
        {
          "output_type": "stream",
          "name": "stdout",
          "text": [
            "['e', 'u', 'y']\n"
          ]
        }
      ]
    },
    {
      "cell_type": "code",
      "source": [
        "a=[\"k\",\"l\",\"m\"]\n",
        "a.insert(1,\"0\")\n",
        "print(a)"
      ],
      "metadata": {
        "colab": {
          "base_uri": "https://localhost:8080/"
        },
        "id": "iMuAHmRyKrEv",
        "outputId": "987bdfb8-ac02-4693-f9d3-82c3606cef66"
      },
      "execution_count": null,
      "outputs": [
        {
          "output_type": "stream",
          "name": "stdout",
          "text": [
            "['k', '0', 'l', 'm']\n"
          ]
        }
      ]
    },
    {
      "cell_type": "code",
      "source": [
        "a=[\"k\",\"l\",\"m\"]\n",
        "a.extend(\"0\")\n",
        "print(a)"
      ],
      "metadata": {
        "colab": {
          "base_uri": "https://localhost:8080/"
        },
        "id": "WqM-7ZWWKuI8",
        "outputId": "e91adac3-7b14-4245-ea56-1ff4feacbb23"
      },
      "execution_count": null,
      "outputs": [
        {
          "output_type": "stream",
          "name": "stdout",
          "text": [
            "['k', 'l', 'm', '0']\n"
          ]
        }
      ]
    },
    {
      "cell_type": "code",
      "source": [
        "a=[\"k\",\"l\",\"m\"]\n",
        "a.clear()\n",
        "print(a)"
      ],
      "metadata": {
        "colab": {
          "base_uri": "https://localhost:8080/"
        },
        "id": "CKvENkwrKxX6",
        "outputId": "b5ea5271-cc47-4bdc-e00b-e3e9d5f7f46d"
      },
      "execution_count": null,
      "outputs": [
        {
          "output_type": "stream",
          "name": "stdout",
          "text": [
            "[]\n"
          ]
        }
      ]
    },
    {
      "cell_type": "code",
      "source": [
        "a=[\"k\",\"l\",\"m\"]\n",
        "a.copy()\n",
        "print(a)"
      ],
      "metadata": {
        "colab": {
          "base_uri": "https://localhost:8080/"
        },
        "id": "noOGCMrlK19G",
        "outputId": "9fe53b20-ed57-4f2f-c36b-e039c9599bf0"
      },
      "execution_count": null,
      "outputs": [
        {
          "output_type": "stream",
          "name": "stdout",
          "text": [
            "['k', 'l', 'm']\n"
          ]
        }
      ]
    },
    {
      "cell_type": "code",
      "source": [
        "a=['k','l','m','m','j']\n",
        "s=a.count('m')\n",
        "print(s)"
      ],
      "metadata": {
        "colab": {
          "base_uri": "https://localhost:8080/"
        },
        "id": "JwJYCIPtK7lM",
        "outputId": "adee6c1e-15f4-4c4c-9798-caf022a8a15a"
      },
      "execution_count": null,
      "outputs": [
        {
          "output_type": "stream",
          "name": "stdout",
          "text": [
            "2\n"
          ]
        }
      ]
    },
    {
      "cell_type": "code",
      "source": [
        "a=['k','l','m','m','j']\n",
        "s=a.index('l')\n",
        "print(s)"
      ],
      "metadata": {
        "colab": {
          "base_uri": "https://localhost:8080/"
        },
        "id": "9BVg7MgpK_ve",
        "outputId": "74db5b7b-cc2d-4cb5-f9af-dc9ee13b7e99"
      },
      "execution_count": null,
      "outputs": [
        {
          "output_type": "stream",
          "name": "stdout",
          "text": [
            "1\n"
          ]
        }
      ]
    },
    {
      "cell_type": "code",
      "source": [
        "a=['k','l','m','m','j']\n",
        "a.pop(3)\n",
        "print(a)"
      ],
      "metadata": {
        "id": "0cdhJ97SLCij",
        "outputId": "1f26b72b-e28e-423c-9b2c-b76e6852d41f",
        "colab": {
          "base_uri": "https://localhost:8080/"
        }
      },
      "execution_count": null,
      "outputs": [
        {
          "output_type": "stream",
          "name": "stdout",
          "text": [
            "['k', 'l', 'm', 'j']\n"
          ]
        }
      ]
    }
  ]
}