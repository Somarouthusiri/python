{
  "nbformat": 4,
  "nbformat_minor": 0,
  "metadata": {
    "colab": {
      "provenance": [],
      "authorship_tag": "ABX9TyMIJn5dTl/hj1CQee+MTCfg",
      "include_colab_link": true
    },
    "kernelspec": {
      "name": "python3",
      "display_name": "Python 3"
    },
    "language_info": {
      "name": "python"
    }
  },
  "cells": [
    {
      "cell_type": "markdown",
      "metadata": {
        "id": "view-in-github",
        "colab_type": "text"
      },
      "source": [
        "<a href=\"https://colab.research.google.com/github/Somarouthusiri/python/blob/main/python_codes.ipynb\" target=\"_parent\"><img src=\"https://colab.research.google.com/assets/colab-badge.svg\" alt=\"Open In Colab\"/></a>"
      ]
    },
    {
      "cell_type": "code",
      "source": [
        "r=float(input(\"radius:\"))\n",
        "c=2*3.14*r\n",
        "a=3.14*r*r\n",
        "print(c)\n",
        "print(a)"
      ],
      "metadata": {
        "colab": {
          "base_uri": "https://localhost:8080/"
        },
        "id": "v-9_FslFQ8_0",
        "outputId": "3f6e9fd9-0452-434e-fe3e-7b49313ecd9e"
      },
      "execution_count": null,
      "outputs": [
        {
          "output_type": "stream",
          "name": "stdout",
          "text": [
            "radius:4\n",
            "25.12\n",
            "50.24\n"
          ]
        }
      ]
    },
    {
      "cell_type": "code",
      "source": [
        "print(\"siri\")"
      ],
      "metadata": {
        "colab": {
          "base_uri": "https://localhost:8080/"
        },
        "id": "xYfPxvGqkTVz",
        "outputId": "9b567adf-d39a-4ffb-bbbc-4b1ed13c8b97"
      },
      "execution_count": null,
      "outputs": [
        {
          "output_type": "stream",
          "name": "stdout",
          "text": [
            "siri\n"
          ]
        }
      ]
    },
    {
      "cell_type": "code",
      "source": [
        "b=float(input(\"breadth:\"))\n",
        "h=float(input(\"height:\"))\n",
        "a=0.5*b*h\n",
        "print(a)"
      ],
      "metadata": {
        "colab": {
          "base_uri": "https://localhost:8080/"
        },
        "id": "KEUHbNMvSEhw",
        "outputId": "4d3e14cd-6888-464b-a064-772a4674380c"
      },
      "execution_count": null,
      "outputs": [
        {
          "output_type": "stream",
          "name": "stdout",
          "text": [
            "breadth:2\n",
            "height:3\n",
            "3.0\n"
          ]
        }
      ]
    },
    {
      "cell_type": "code",
      "source": [
        "l=float(input(\"length:\"))\n",
        "b=float(input(\"breadth:\"))\n",
        "A=l*b\n",
        "P=2*l+b\n",
        "print(A)\n",
        "print(P)"
      ],
      "metadata": {
        "colab": {
          "base_uri": "https://localhost:8080/"
        },
        "id": "MC68Ty1AUHxT",
        "outputId": "2aec718c-f6f8-414f-d7a8-158b7a30e54a"
      },
      "execution_count": null,
      "outputs": [
        {
          "output_type": "stream",
          "name": "stdout",
          "text": [
            "length:3\n",
            "breadth:6\n",
            "18.0\n",
            "12.0\n"
          ]
        }
      ]
    },
    {
      "cell_type": "code",
      "source": [
        "p = float(input(\"Principal amount: \"))\n",
        "r = float(input(\"Rate of interest (in %): \"))\n",
        "n = float(input(\"Enter time (in years): \"))\n",
        "S = p * r * n / 100\n",
        "C = p * (1 + r / 100) ** n\n",
        "print(f\"Simple Interest: {S:.2f}\")\n",
        "print(f\"Compound Interest: {C:.2f}\")"
      ],
      "metadata": {
        "colab": {
          "base_uri": "https://localhost:8080/"
        },
        "id": "SfbXhlhBVB-t",
        "outputId": "d9dc8a13-d439-4bf0-de3d-9184cd50cd4e"
      },
      "execution_count": null,
      "outputs": [
        {
          "output_type": "stream",
          "name": "stdout",
          "text": [
            "Principal amount: 200\n",
            "Rate of interest (in %): 30\n",
            "Enter time (in years): 50\n",
            "Simple Interest: 3000.00\n",
            "Compound Interest: 99585844.60\n"
          ]
        }
      ]
    },
    {
      "cell_type": "code",
      "source": [
        "p=int(input())\n",
        "r=int(input())\n",
        "t=int(input())\n",
        "s=p*r*t/100\n",
        "c=p*(1+r/100)**t\n",
        "print(s)\n",
        "print(c)"
      ],
      "metadata": {
        "colab": {
          "base_uri": "https://localhost:8080/"
        },
        "id": "6KPGoVORKQya",
        "outputId": "54f3a817-cfb9-4865-b872-50a94b07ee8b"
      },
      "execution_count": null,
      "outputs": [
        {
          "output_type": "stream",
          "name": "stdout",
          "text": [
            "200\n",
            "59\n",
            "2\n",
            "236.0\n",
            "505.6199999999999\n"
          ]
        }
      ]
    }
  ]
}