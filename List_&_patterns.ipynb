{
  "cells": [
    {
      "cell_type": "markdown",
      "metadata": {
        "id": "view-in-github",
        "colab_type": "text"
      },
      "source": [
        "<a href=\"https://colab.research.google.com/github/Somarouthusiri/python/blob/main/List_%26_patterns.ipynb\" target=\"_parent\"><img src=\"https://colab.research.google.com/assets/colab-badge.svg\" alt=\"Open In Colab\"/></a>"
      ]
    },
    {
      "cell_type": "code",
      "execution_count": null,
      "metadata": {
        "colab": {
          "base_uri": "https://localhost:8080/"
        },
        "id": "XUBrP2AFfpCg",
        "outputId": "469e2b84-fd96-49b3-da0d-cb56ce43f22b"
      },
      "outputs": [
        {
          "name": "stdout",
          "output_type": "stream",
          "text": [
            "Hello siri\n"
          ]
        }
      ],
      "source": [
        "x=\"hello siri\"\n",
        "y=x.capitalize()\n",
        "print(y)"
      ]
    },
    {
      "cell_type": "code",
      "execution_count": null,
      "metadata": {
        "colab": {
          "base_uri": "https://localhost:8080/"
        },
        "id": "cMCv9ycjhASl",
        "outputId": "a938ffc7-d57c-44cd-d4da-5b6f3440c77e"
      },
      "outputs": [
        {
          "name": "stdout",
          "output_type": "stream",
          "text": [
            "hey you are so beautiful\n"
          ]
        }
      ],
      "source": [
        "x=\"HEY YOU ARE SO Beautiful\"\n",
        "y=x.casefold()\n",
        "print(y)"
      ]
    },
    {
      "cell_type": "code",
      "execution_count": null,
      "metadata": {
        "colab": {
          "base_uri": "https://localhost:8080/"
        },
        "id": "uTczDT3chZX1",
        "outputId": "0f4ed546-cb50-4717-abff-a6cc9f73a4d6"
      },
      "outputs": [
        {
          "name": "stdout",
          "output_type": "stream",
          "text": [
            "                 rajiya                 \n"
          ]
        }
      ],
      "source": [
        "x=\"rajiya\"\n",
        "y=x.center(40)\n",
        "print(y)"
      ]
    },
    {
      "cell_type": "code",
      "execution_count": null,
      "metadata": {
        "colab": {
          "base_uri": "https://localhost:8080/"
        },
        "id": "u5xGE4cThvZS",
        "outputId": "bd9079fd-3e17-49b9-cc6e-d4eceaefb927"
      },
      "outputs": [
        {
          "name": "stdout",
          "output_type": "stream",
          "text": [
            "3\n"
          ]
        }
      ],
      "source": [
        "x=\"I am trying to learn python,but python is not like me,so python is not understand to me\"\n",
        "z=x.count(\"python\")\n",
        "print(z)"
      ]
    },
    {
      "cell_type": "code",
      "execution_count": null,
      "metadata": {
        "colab": {
          "base_uri": "https://localhost:8080/"
        },
        "id": "8QyXU15sipdQ",
        "outputId": "4a9d3846-123c-4c79-c68c-d4527d787ba3"
      },
      "outputs": [
        {
          "name": "stdout",
          "output_type": "stream",
          "text": [
            "b'm\\xc3\\xa1n\\xc3\\xa1s\\xc3\\xa1'\n"
          ]
        }
      ],
      "source": [
        "s=\"mánásá\"\n",
        "print(s.encode())"
      ]
    },
    {
      "cell_type": "code",
      "execution_count": null,
      "metadata": {
        "colab": {
          "base_uri": "https://localhost:8080/"
        },
        "id": "vBNvKsM_sBTK",
        "outputId": "84bf43dd-309f-498c-cfef-8fa6e5bed200"
      },
      "outputs": [
        {
          "name": "stdout",
          "output_type": "stream",
          "text": [
            "red apple\n",
            "red banana\n",
            "red cherry\n",
            "big apple\n",
            "big banana\n",
            "big cherry\n",
            "tasty apple\n",
            "tasty banana\n",
            "tasty cherry\n"
          ]
        }
      ],
      "source": [
        "siri=[\"red\",\"big\",\"tasty\"]\n",
        "priya=[\"apple\",\"banana\",\"cherry\"]\n",
        "for x in siri:\n",
        " for y in priya:\n",
        "  print(x,y)"
      ]
    },
    {
      "cell_type": "code",
      "execution_count": null,
      "metadata": {
        "colab": {
          "base_uri": "https://localhost:8080/"
        },
        "id": "t348qvD7wQVM",
        "outputId": "236b753c-ed29-4d6a-bad1-6715eac002c7"
      },
      "outputs": [
        {
          "name": "stdout",
          "output_type": "stream",
          "text": [
            "red apple\n",
            "red banana\n",
            "red cherry\n",
            "tasty apple\n",
            "tasty banana\n",
            "tasty cherry\n"
          ]
        }
      ],
      "source": [
        "siri = [\"red\", \"big\", \"tasty\"]\n",
        "priya = [\"apple\", \"banana\", \"cherry\"]\n",
        "for x in siri:\n",
        "    for y in priya:\n",
        "        if x==\"big\":\n",
        "            continue\n",
        "        print(x,y)"
      ]
    },
    {
      "cell_type": "code",
      "execution_count": null,
      "metadata": {
        "colab": {
          "base_uri": "https://localhost:8080/"
        },
        "id": "Sw4cxXrf3ii6",
        "outputId": "49ddbfde-9dad-40a6-ebda-e0b8ecb8d437"
      },
      "outputs": [
        {
          "name": "stdout",
          "output_type": "stream",
          "text": [
            "*****\n",
            "*****\n",
            "*****\n",
            "*****\n",
            "*****\n"
          ]
        }
      ],
      "source": [
        "for i in range(1,6):\n",
        " for j in range(1,6):\n",
        "  print(\"*\",end=\"\")\n",
        " print()"
      ]
    },
    {
      "cell_type": "code",
      "execution_count": null,
      "metadata": {
        "colab": {
          "base_uri": "https://localhost:8080/"
        },
        "id": "wrc98lLX70B3",
        "outputId": "3b78f2ae-d3d8-4d1c-9d7e-2344d28bbe5e"
      },
      "outputs": [
        {
          "output_type": "stream",
          "name": "stdout",
          "text": [
            "*\n",
            "**\n",
            "***\n",
            "****\n",
            "*****\n"
          ]
        }
      ],
      "source": [
        "for i in range(5):\n",
        " for j in range(i+1):\n",
        "  print(\"*\",end=\"\")\n",
        " print()"
      ]
    },
    {
      "cell_type": "code",
      "execution_count": null,
      "metadata": {
        "colab": {
          "base_uri": "https://localhost:8080/"
        },
        "id": "GDPi5Vxb_cfj",
        "outputId": "a762225a-3ab6-4766-c757-675e90154c41"
      },
      "outputs": [
        {
          "output_type": "stream",
          "name": "stdout",
          "text": [
            "*****\n",
            "****\n",
            "***\n",
            "**\n",
            "*\n"
          ]
        }
      ],
      "source": [
        "for i in range(5):\n",
        " for j in range(5-i):\n",
        "  print(\"*\",end=\"\")\n",
        " print()"
      ]
    },
    {
      "cell_type": "code",
      "execution_count": null,
      "metadata": {
        "colab": {
          "base_uri": "https://localhost:8080/"
        },
        "id": "Qi55FJoPBD2l",
        "outputId": "3aef05c4-1473-4264-c5a3-d4243b0e7e06"
      },
      "outputs": [
        {
          "name": "stdout",
          "output_type": "stream",
          "text": [
            "    *\n",
            "   **\n",
            "  ***\n",
            " ****\n",
            "*****\n"
          ]
        }
      ],
      "source": [
        "for x in range(1, 6):\n",
        "    for y in range(5, x, -1):\n",
        "        print(\" \", end=\"\")\n",
        "    for z in range(0, x):\n",
        "        print(\"*\", end=\"\")\n",
        "    print()"
      ]
    },
    {
      "cell_type": "code",
      "execution_count": null,
      "metadata": {
        "colab": {
          "base_uri": "https://localhost:8080/"
        },
        "id": "OcoqWQOFR5rQ",
        "outputId": "28f37883-9cca-4f30-c28b-2d9d410e0e36"
      },
      "outputs": [
        {
          "output_type": "stream",
          "name": "stdout",
          "text": [
            "Enter a year: 1678\n",
            "1678 is not a leap year.\n"
          ]
        }
      ],
      "source": [
        "def is_leap_year(year):\n",
        "    if (year % 4 == 0 and year % 100 != 0) or (year % 400 == 0):\n",
        "        return True\n",
        "    else:\n",
        "        return False\n",
        "\n",
        "# Test the function\n",
        "year = int(input(\"Enter a year: \"))\n",
        "if is_leap_year(year):\n",
        "    print(f\"{year} is a leap year.\")\n",
        "else:\n",
        "    print(f\"{year} is not a leap year.\")"
      ]
    },
    {
      "cell_type": "code",
      "execution_count": null,
      "metadata": {
        "colab": {
          "base_uri": "https://localhost:8080/"
        },
        "id": "AMTp9UmLRQbY",
        "outputId": "01de3a86-b03b-4983-93bf-64220650ae00"
      },
      "outputs": [
        {
          "output_type": "stream",
          "name": "stdout",
          "text": [
            "    *\n",
            "   ***\n",
            "  *****\n",
            " *******\n",
            "*********\n",
            " *******\n",
            "  *****\n",
            "   ***\n",
            "    *\n"
          ]
        }
      ],
      "source": [
        "n = 5\n",
        "for i in range(1, n + 1):\n",
        "    print(\" \" * (n - i) + \"*\" * (2 * i - 1))\n",
        "for i in range(n - 1, 0, -1):\n",
        "    print(\" \" * (n - i) + \"*\" * (2 * i - 1))"
      ]
    },
    {
      "cell_type": "code",
      "source": [
        "def is_prime(number):\n",
        "    if number <= 1:\n",
        "        return False\n",
        "    for i in range(2, int(number**0.5) + 1):\n",
        "        if number % i == 0:\n",
        "            return False\n",
        "    return True\n",
        "\n",
        "# Test the function\n",
        "num = int(input(\"Enter a number: \"))\n",
        "if is_prime(num):\n",
        "    print(f\"{num} is a prime number.\")\n",
        "else:\n",
        "    print(f\"{num} is not a prime number.\")"
      ],
      "metadata": {
        "colab": {
          "base_uri": "https://localhost:8080/"
        },
        "id": "64B47yzCGYYi",
        "outputId": "d2139b86-30ca-448f-f945-fa27e21472bd"
      },
      "execution_count": null,
      "outputs": [
        {
          "output_type": "stream",
          "name": "stdout",
          "text": [
            "Enter a number: 1\n",
            "1 is not a prime number.\n"
          ]
        }
      ]
    },
    {
      "cell_type": "code",
      "source": [
        "for i in range(5):\n",
        "    for k in range(5-i):\n",
        "        print(\" \", end=\"\")\n",
        "    for j in range(i):\n",
        "        print(\"*\", end=\"\")\n",
        "    print()"
      ],
      "metadata": {
        "colab": {
          "base_uri": "https://localhost:8080/"
        },
        "id": "ae1oyN0Dcldi",
        "outputId": "553ccf35-e877-47df-c36a-d79024abe249"
      },
      "execution_count": null,
      "outputs": [
        {
          "output_type": "stream",
          "name": "stdout",
          "text": [
            "     \n",
            "    *\n",
            "   **\n",
            "  ***\n",
            " ****\n"
          ]
        }
      ]
    },
    {
      "cell_type": "code",
      "source": [
        "n=5\n",
        "for i in range(1,n + 1):\n",
        " print(\" \"*(n-i) + \"*\"*(2*i-1))"
      ],
      "metadata": {
        "colab": {
          "base_uri": "https://localhost:8080/"
        },
        "id": "n83pWFRoeo_W",
        "outputId": "ff2b174c-590d-45b3-f6b7-8ccadbd892f0"
      },
      "execution_count": null,
      "outputs": [
        {
          "output_type": "stream",
          "name": "stdout",
          "text": [
            "    *\n",
            "   ***\n",
            "  *****\n",
            " *******\n",
            "*********\n"
          ]
        }
      ]
    },
    {
      "cell_type": "code",
      "source": [
        "for i in range(1, 6):  # Loop for the number of rows\n",
        "    for k in range(5, i, -1):  # Print spaces to align the stars properly\n",
        "        print(\" \", end=\"\")\n",
        "    for j in range(0, i):  # Print stars in each row\n",
        "        print(\"*\", end=\"\")\n",
        "    print()"
      ],
      "metadata": {
        "colab": {
          "base_uri": "https://localhost:8080/"
        },
        "id": "mMPL-bZEk9Dr",
        "outputId": "d59c82d8-5435-4c83-cbe9-ac5281ed55ae"
      },
      "execution_count": null,
      "outputs": [
        {
          "output_type": "stream",
          "name": "stdout",
          "text": [
            "    *\n",
            "   **\n",
            "  ***\n",
            " ****\n",
            "*****\n"
          ]
        }
      ]
    },
    {
      "cell_type": "code",
      "source": [
        "Z\n",
        "n = int(input())\n",
        "sum_of_numbers = sum(range(1, n + 1))\n",
        "\n",
        "print(\"The sum of the natural numbers is:\", sum_of_numbers)"
      ],
      "metadata": {
        "colab": {
          "base_uri": "https://localhost:8080/"
        },
        "id": "zsl6jIQJiH08",
        "outputId": "088c5949-068f-4f6e-f74e-f437a9556168"
      },
      "execution_count": null,
      "outputs": [
        {
          "output_type": "stream",
          "name": "stdout",
          "text": [
            "5\n",
            "The sum of the natural numbers is: 15\n"
          ]
        }
      ]
    },
    {
      "cell_type": "code",
      "source": [
        "# Factorial calculator using iteration\n",
        "def factorial_iterative(n):\n",
        "    if n < 0:\n",
        "        return \"Factorial is not defined for negative numbers\"\n",
        "    result = 1\n",
        "    for i in range(1, n + 1):\n",
        "        result *= i\n",
        "    return result\n",
        "\n",
        "# Input from user\n",
        "number = int(input(\"Enter a number: \"))\n",
        "print(f\"The factorial of {number} is: {factorial_iterative(number)}\")"
      ],
      "metadata": {
        "colab": {
          "base_uri": "https://localhost:8080/"
        },
        "id": "kl2IbO10i5iD",
        "outputId": "51cf0d8b-32e7-4e67-f2b2-5b729c387069"
      },
      "execution_count": null,
      "outputs": [
        {
          "output_type": "stream",
          "name": "stdout",
          "text": [
            "Enter a number: 5\n",
            "The factorial of 5 is: 120\n"
          ]
        }
      ]
    },
    {
      "cell_type": "code",
      "source": [
        "C=float(input())\n",
        "F=(F - 32/9)*5\n",
        "print(\"The temperature in celcius \",C)"
      ],
      "metadata": {
        "colab": {
          "base_uri": "https://localhost:8080/"
        },
        "id": "9zzfkBLMz9v0",
        "outputId": "2502861c-020e-4c43-c356-63ee6357c59a"
      },
      "execution_count": null,
      "outputs": [
        {
          "output_type": "stream",
          "name": "stdout",
          "text": [
            "96.80\n",
            "The temperature in celcius  466.2222222222222\n"
          ]
        }
      ]
    },
    {
      "cell_type": "code",
      "source": [
        "def is_palindrome(string):\n",
        "    string = string.replace(\" \", \"\").lower()\n",
        "    return string == string[::-1]\n",
        "\n",
        "# Test the function\n",
        "input_string = input(\"Enter a string: \")\n",
        "if is_palindrome(input_string):\n",
        "    print(f'\"{input_string}\" is a palindrome.')\n",
        "else:\n",
        "    print(f'\"{input_string}\" is not a palindrome.')"
      ],
      "metadata": {
        "colab": {
          "base_uri": "https://localhost:8080/"
        },
        "id": "NEsH18ig3Yfj",
        "outputId": "ad6a6aa7-550e-4a1e-e506-4f36f67c0278"
      },
      "execution_count": null,
      "outputs": [
        {
          "output_type": "stream",
          "name": "stdout",
          "text": [
            "Enter a string: 9381771839\n",
            "\"9381771839\" is a palindrome.\n"
          ]
        }
      ]
    },
    {
      "cell_type": "code",
      "source": [
        "n=int(input())\n",
        "a=map(int,input().split())\n",
        "b=set(a)\n",
        "c=sorted(b)\n",
        "print(c[-2])"
      ],
      "metadata": {
        "colab": {
          "base_uri": "https://localhost:8080/"
        },
        "id": "SfdEpTe86uJa",
        "outputId": "cea834d9-2952-4888-b22b-56be7daff860"
      },
      "execution_count": null,
      "outputs": [
        {
          "output_type": "stream",
          "name": "stdout",
          "text": [
            "4\n",
            "5 6 7 8\n",
            "7\n"
          ]
        }
      ]
    },
    {
      "cell_type": "code",
      "source": [
        "a=[4,5,6,7,8,9]\n",
        "b=set(a)\n",
        "c=sorted(b)\n",
        "print(c[-2])"
      ],
      "metadata": {
        "colab": {
          "base_uri": "https://localhost:8080/"
        },
        "id": "qKmLMCOQ-Z3z",
        "outputId": "b81307e8-7255-4678-e726-00ddf15ffb93"
      },
      "execution_count": null,
      "outputs": [
        {
          "output_type": "stream",
          "name": "stdout",
          "text": [
            "8\n"
          ]
        }
      ]
    },
    {
      "cell_type": "code",
      "source": [
        "\n",
        "def celsius_to_fahrenheit(celsius):\n",
        "    return (celsius * 9/5) + 32\n",
        "celsius = float(input(\"Enter temperature in Celsius: \"))\n",
        "fahrenheit = celsius_to_fahrenheit(celsius)\n",
        "print(f\"{celsius}°C is equal to {fahrenheit:.2f}°F\")"
      ],
      "metadata": {
        "colab": {
          "base_uri": "https://localhost:8080/"
        },
        "id": "hlhvrRKgNOUv",
        "outputId": "cc561802-a73a-4c48-a6c7-ecfdfc7b35a1"
      },
      "execution_count": null,
      "outputs": [
        {
          "output_type": "stream",
          "name": "stdout",
          "text": [
            "Enter temperature in Celsius: 36\n",
            "36.0°C is equal to 96.80°F\n"
          ]
        }
      ]
    },
    {
      "cell_type": "code",
      "source": [
        "rows = int(input(\"Enter the number of rows for the triangle: \"))\n",
        "\n",
        "for i in range(1, rows + 1):\n",
        "    for j in range(1, i + 1):\n",
        "        print(i, end=' ')\n",
        "    print()"
      ],
      "metadata": {
        "colab": {
          "base_uri": "https://localhost:8080/"
        },
        "id": "BopRn0-e-wc5",
        "outputId": "238e0066-c9ba-47dd-8837-cd703b0b7c36"
      },
      "execution_count": null,
      "outputs": [
        {
          "output_type": "stream",
          "name": "stdout",
          "text": [
            "Enter the number of rows for the triangle: 5\n",
            "1 \n",
            "2 2 \n",
            "3 3 3 \n",
            "4 4 4 4 \n",
            "5 5 5 5 5 \n"
          ]
        }
      ]
    },
    {
      "cell_type": "code",
      "source": [
        "rows = int(input(\"Enter the number of rows for the diamond: \"))\n",
        "for i in range(1, rows + 1):\n",
        "    print(' ' * (rows - i) + ' *' * (i))\n",
        "for i in range(rows - 1, 0, -1):\n",
        "    print(' ' * (rows - i) + ' *' * (i))"
      ],
      "metadata": {
        "colab": {
          "base_uri": "https://localhost:8080/"
        },
        "id": "cKOOf2OE_TqC",
        "outputId": "df7de97f-fb1c-4320-99e1-53570b116005"
      },
      "execution_count": null,
      "outputs": [
        {
          "output_type": "stream",
          "name": "stdout",
          "text": [
            "Enter the number of rows for the diamond: 6\n",
            "      *\n",
            "     * *\n",
            "    * * *\n",
            "   * * * *\n",
            "  * * * * *\n",
            " * * * * * *\n",
            "  * * * * *\n",
            "   * * * *\n",
            "    * * *\n",
            "     * *\n",
            "      *\n"
          ]
        }
      ]
    },
    {
      "cell_type": "code",
      "source": [
        "for x in range(1,6):\n",
        " for y in range(1,x+1):\n",
        "  print(int(y),end=\" \")\n",
        " print()"
      ],
      "metadata": {
        "colab": {
          "base_uri": "https://localhost:8080/"
        },
        "id": "7JTIJ9BJDGRh",
        "outputId": "63a9f2a3-1bf8-451b-e498-8805edd15d1a"
      },
      "execution_count": null,
      "outputs": [
        {
          "output_type": "stream",
          "name": "stdout",
          "text": [
            "1 \n",
            "1 2 \n",
            "1 2 3 \n",
            "1 2 3 4 \n",
            "1 2 3 4 5 \n"
          ]
        }
      ]
    },
    {
      "cell_type": "code",
      "source": [
        "rows = int(input(\"Enter the number of rows for the diamond: \"))\n",
        "for i in range(1, rows + 1):\n",
        "    print(' ' * (rows - i) + ' *' * (i))\n",
        "for i in range(rows , 0, -1):\n",
        "    print(' ' * (rows - i) + ' *' * (i))"
      ],
      "metadata": {
        "colab": {
          "base_uri": "https://localhost:8080/"
        },
        "id": "OWYtxHOZGaP6",
        "outputId": "d8b4cac6-5f3a-4469-d4f9-7930e9aff47f"
      },
      "execution_count": null,
      "outputs": [
        {
          "output_type": "stream",
          "name": "stdout",
          "text": [
            "Enter the number of rows for the diamond: 6\n",
            "      *\n",
            "     * *\n",
            "    * * *\n",
            "   * * * *\n",
            "  * * * * *\n",
            " * * * * * *\n",
            " * * * * * *\n",
            "  * * * * *\n",
            "   * * * *\n",
            "    * * *\n",
            "     * *\n",
            "      *\n"
          ]
        }
      ]
    },
    {
      "cell_type": "code",
      "source": [
        "name = input(\"Enter a name: \")\n",
        "vowelslist = ('a', 'e', 'i', 'o', 'u')\n",
        "vowelscount = 0\n",
        "consonantscount = 0\n",
        "\n",
        "for i in name.lower():\n",
        "    if i in vowelslist:\n",
        "        vowelscount += 1\n",
        "    else:\n",
        "        consonantscount += 1\n",
        "\n",
        "print(\"Number of vowels =\", vowelscount)\n",
        "print(\"Number of consonants =\", consonantscount)"
      ],
      "metadata": {
        "colab": {
          "base_uri": "https://localhost:8080/"
        },
        "id": "BPAcBeY7HPO8",
        "outputId": "db095380-de80-484d-b0ae-ab5a2e35fc27"
      },
      "execution_count": null,
      "outputs": [
        {
          "output_type": "stream",
          "name": "stdout",
          "text": [
            "Enter a name: Siri Bhuvaneswari \n",
            "Number of vowels = 7\n",
            "Number of consonants = 11\n"
          ]
        }
      ]
    }
  ],
  "metadata": {
    "colab": {
      "provenance": [],
      "authorship_tag": "ABX9TyPclwANbecY+ABhN3ZFgCr9",
      "include_colab_link": true
    },
    "kernelspec": {
      "display_name": "Python 3",
      "name": "python3"
    },
    "language_info": {
      "name": "python"
    }
  },
  "nbformat": 4,
  "nbformat_minor": 0
}