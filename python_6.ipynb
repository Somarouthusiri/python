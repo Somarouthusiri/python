{
  "nbformat": 4,
  "nbformat_minor": 0,
  "metadata": {
    "colab": {
      "provenance": [],
      "authorship_tag": "ABX9TyOLGofNQH7D1gCJmB728XuU",
      "include_colab_link": true
    },
    "kernelspec": {
      "name": "python3",
      "display_name": "Python 3"
    },
    "language_info": {
      "name": "python"
    }
  },
  "cells": [
    {
      "cell_type": "markdown",
      "metadata": {
        "id": "view-in-github",
        "colab_type": "text"
      },
      "source": [
        "<a href=\"https://colab.research.google.com/github/Somarouthusiri/python/blob/main/python_6.ipynb\" target=\"_parent\"><img src=\"https://colab.research.google.com/assets/colab-badge.svg\" alt=\"Open In Colab\"/></a>"
      ]
    },
    {
      "cell_type": "code",
      "execution_count": null,
      "metadata": {
        "colab": {
          "base_uri": "https://localhost:8080/"
        },
        "id": "YiWryFE4utoG",
        "outputId": "b9b48f45-e749-4231-e416-edd887b14102"
      },
      "outputs": [
        {
          "output_type": "stream",
          "name": "stdout",
          "text": [
            "a:2\n",
            "b:3\n",
            "25\n"
          ]
        }
      ],
      "source": [
        "a=int(input(\"a:\"))\n",
        "b=int(input(\"b:\"))\n",
        "r=(a+b)*(a+b)\n",
        "print(r)"
      ]
    },
    {
      "cell_type": "code",
      "source": [
        "print(\"\\t Eastern power corporation \\t\")\n",
        "print(\"__________________________________\")\n",
        "print(\"meter no:2345\")\n",
        "print(\"customer name:siri\")\n",
        "print(\"current units:100\")\n",
        "print(\"previous units:30\")\n",
        "print(\"\\t total units:130\")\n",
        "print(\"\\t total amount:800\")"
      ],
      "metadata": {
        "colab": {
          "base_uri": "https://localhost:8080/"
        },
        "id": "g2PJb1z3xOSq",
        "outputId": "9a2fdbd3-614e-4a9d-ff44-d6ac0c2e854c"
      },
      "execution_count": null,
      "outputs": [
        {
          "output_type": "stream",
          "name": "stdout",
          "text": [
            "\t Eastern power corporation \t\n",
            "__________________________________\n",
            "meter no:2345\n",
            "customer name:siri\n",
            "current units:100\n",
            "previous units:30\n",
            "\t total units:130\n",
            "\t total amount:800\n"
          ]
        }
      ]
    },
    {
      "cell_type": "code",
      "source": [
        "print(\"\\t Eastern power corporation \\t\")\n",
        "print(\"________________________________\")\n",
        "a=input(\"meter no:\")\n",
        "b=input(\"customer name:\")\n",
        "C=int(input(\"current units:\"))\n",
        "d=int(input(\"previous units:\"))\n",
        "t=C-d\n",
        "A=t*6\n",
        "print(t)\n",
        "print(A)"
      ],
      "metadata": {
        "colab": {
          "base_uri": "https://localhost:8080/"
        },
        "id": "6yiIpg6c0Zqf",
        "outputId": "09a3986f-a765-409e-8a6e-dee700cb2d7d"
      },
      "execution_count": null,
      "outputs": [
        {
          "output_type": "stream",
          "name": "stdout",
          "text": [
            "\t Eastern power corporation \t\n",
            "________________________________\n",
            "meter no:234567\n",
            "customer name:Suppi\n",
            "current units:1000\n",
            "previous units:300\n",
            "700\n",
            "4200\n"
          ]
        }
      ]
    },
    {
      "cell_type": "code",
      "source": [
        "A=int(input())\n",
        "B=int(input())\n",
        "C=int(input())\n",
        "D=int(input())\n",
        "if (A>B and A>C and A>D):\n",
        " print(\"A\")\n",
        "elif (B>D and B>A and B>C):\n",
        " print(\"B\")\n",
        "elif (D>C and D>A and D>B):\n",
        " print(\"D\")\n",
        "else:\n",
        " print(\"C\")"
      ],
      "metadata": {
        "id": "UCODB5Y0VTnk"
      },
      "execution_count": null,
      "outputs": []
    },
    {
      "cell_type": "code",
      "source": [
        "A=int(input())\n",
        "B=int(input())\n",
        "C=int(input())\n",
        "if A>B and A>C:\n",
        " print(\"A\")\n",
        "elif B>C and B>A:\n",
        " print(\"B\")\n",
        "else:\n",
        " print(\"C\")"
      ],
      "metadata": {
        "id": "x3-mf4jk4faA"
      },
      "execution_count": null,
      "outputs": []
    }
  ]
}