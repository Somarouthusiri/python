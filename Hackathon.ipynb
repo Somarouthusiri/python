{
  "nbformat": 4,
  "nbformat_minor": 0,
  "metadata": {
    "colab": {
      "provenance": [],
      "authorship_tag": "ABX9TyN+M+JZvn+Q/9fX2I8yqM3B",
      "include_colab_link": true
    },
    "kernelspec": {
      "name": "python3",
      "display_name": "Python 3"
    },
    "language_info": {
      "name": "python"
    }
  },
  "cells": [
    {
      "cell_type": "markdown",
      "metadata": {
        "id": "view-in-github",
        "colab_type": "text"
      },
      "source": [
        "<a href=\"https://colab.research.google.com/github/Somarouthusiri/python/blob/main/Hackathon.ipynb\" target=\"_parent\"><img src=\"https://colab.research.google.com/assets/colab-badge.svg\" alt=\"Open In Colab\"/></a>"
      ]
    },
    {
      "cell_type": "code",
      "execution_count": null,
      "metadata": {
        "colab": {
          "base_uri": "https://localhost:8080/"
        },
        "id": "SHWC_3eiFoSX",
        "outputId": "4155555a-5589-48bb-820a-22f9490f4aef"
      },
      "outputs": [
        {
          "output_type": "stream",
          "name": "stdout",
          "text": [
            "3\n",
            "4\n",
            "7\n"
          ]
        }
      ],
      "source": [
        "a=int(input())\n",
        "b=int(input())\n",
        "c=a+b\n",
        "print(c)"
      ]
    },
    {
      "cell_type": "code",
      "source": [
        "N=int(input())\n",
        "if N%5==0:\n",
        " print(\"quize\")\n",
        "else:\n",
        " print(\"buze\")"
      ],
      "metadata": {
        "colab": {
          "base_uri": "https://localhost:8080/"
        },
        "id": "6y7l8QTnmH0I",
        "outputId": "a366211f-f527-40a6-8757-456471a2b4c1"
      },
      "execution_count": null,
      "outputs": [
        {
          "output_type": "stream",
          "name": "stdout",
          "text": [
            "20\n",
            "quize\n"
          ]
        }
      ]
    },
    {
      "cell_type": "code",
      "source": [
        "A=int(input())\n",
        "if A>18:\n",
        " print(\"eligible\")\n",
        "else:\n",
        " print(\"Not eligible\")"
      ],
      "metadata": {
        "colab": {
          "base_uri": "https://localhost:8080/"
        },
        "id": "NmulPoPOGKPE",
        "outputId": "12094922-6bd0-4507-a26c-835cdae56fa6"
      },
      "execution_count": null,
      "outputs": [
        {
          "output_type": "stream",
          "name": "stdout",
          "text": [
            "17\n",
            "Not eligible\n"
          ]
        }
      ]
    },
    {
      "cell_type": "code",
      "source": [
        "B=int(input())\n",
        "if B>80:\n",
        " print(\"A grade\")\n",
        "elif 55<B>80:\n",
        " print(\"B grade\")\n",
        "else:\n",
        " print(\"C grade\")"
      ],
      "metadata": {
        "colab": {
          "base_uri": "https://localhost:8080/"
        },
        "id": "BsK29tPfHLMc",
        "outputId": "dc68680d-aabf-4fce-d878-8527e5da5707"
      },
      "execution_count": null,
      "outputs": [
        {
          "output_type": "stream",
          "name": "stdout",
          "text": [
            "34\n",
            "C grade\n"
          ]
        }
      ]
    },
    {
      "cell_type": "code",
      "source": [
        "S=int(input())\n",
        "if S>0:\n",
        " print(\"positive number\")\n",
        "elif S<0:\n",
        " print(\"negative number\")\n",
        "elif S==0:\n",
        " print(\"zero\")"
      ],
      "metadata": {
        "colab": {
          "base_uri": "https://localhost:8080/"
        },
        "id": "esp0LrwKHxuv",
        "outputId": "327039b9-c345-4274-a611-122069c81a7a"
      },
      "execution_count": null,
      "outputs": [
        {
          "output_type": "stream",
          "name": "stdout",
          "text": [
            "3\n",
            "positive number\n"
          ]
        }
      ]
    },
    {
      "cell_type": "code",
      "source": [
        "A=int(input())\n",
        "if A%2==0 and A%4==0:\n",
        " print(\"quize\")\n",
        "elif A%5==0:\n",
        " print(\"buze\")\n",
        "else:\n",
        " print(\"siri\")"
      ],
      "metadata": {
        "colab": {
          "base_uri": "https://localhost:8080/"
        },
        "id": "eRRL5_jtItJf",
        "outputId": "04b4857d-a3a8-481b-f9a2-86a7faaea084"
      },
      "execution_count": null,
      "outputs": [
        {
          "output_type": "stream",
          "name": "stdout",
          "text": [
            "9\n",
            "siri\n"
          ]
        }
      ]
    },
    {
      "cell_type": "code",
      "source": [
        "A=int(input())\n",
        "B=int(input())\n",
        "C=int(input())\n",
        "if A>B and A>C:\n",
        " print(\"A\")\n",
        "elif B>C and B>A:\n",
        " print(\"B\")\n",
        "else:\n",
        " print(\"C\")"
      ],
      "metadata": {
        "colab": {
          "base_uri": "https://localhost:8080/"
        },
        "id": "UU5kbmyqJ37l",
        "outputId": "e1046b06-f0a5-44da-b7fb-7bc4a2addaed"
      },
      "execution_count": null,
      "outputs": [
        {
          "output_type": "stream",
          "name": "stdout",
          "text": [
            "2\n",
            "13\n",
            "54\n",
            "C\n"
          ]
        }
      ]
    },
    {
      "cell_type": "code",
      "source": [
        "for i in range(1,21):\n",
        " if i%2!=0:\n",
        "   print(i)"
      ],
      "metadata": {
        "colab": {
          "base_uri": "https://localhost:8080/"
        },
        "id": "KmS4tH1yVn9R",
        "outputId": "f2d4fbf9-cc70-401d-e56f-577ab2b5b5c0"
      },
      "execution_count": null,
      "outputs": [
        {
          "output_type": "stream",
          "name": "stdout",
          "text": [
            "1\n",
            "3\n",
            "5\n",
            "7\n",
            "9\n",
            "11\n",
            "13\n",
            "15\n",
            "17\n",
            "19\n"
          ]
        }
      ]
    },
    {
      "cell_type": "code",
      "source": [
        "for i in range(1,101):\n",
        " S=i*5\n",
        " print(S)"
      ],
      "metadata": {
        "colab": {
          "base_uri": "https://localhost:8080/"
        },
        "id": "oZYSF-vVYCoT",
        "outputId": "6db574fb-3325-454c-8b71-e46714f81357"
      },
      "execution_count": null,
      "outputs": [
        {
          "output_type": "stream",
          "name": "stdout",
          "text": [
            "5\n",
            "10\n",
            "15\n",
            "20\n",
            "25\n",
            "30\n",
            "35\n",
            "40\n",
            "45\n",
            "50\n",
            "55\n",
            "60\n",
            "65\n",
            "70\n",
            "75\n",
            "80\n",
            "85\n",
            "90\n",
            "95\n",
            "100\n",
            "105\n",
            "110\n",
            "115\n",
            "120\n",
            "125\n",
            "130\n",
            "135\n",
            "140\n",
            "145\n",
            "150\n",
            "155\n",
            "160\n",
            "165\n",
            "170\n",
            "175\n",
            "180\n",
            "185\n",
            "190\n",
            "195\n",
            "200\n",
            "205\n",
            "210\n",
            "215\n",
            "220\n",
            "225\n",
            "230\n",
            "235\n",
            "240\n",
            "245\n",
            "250\n",
            "255\n",
            "260\n",
            "265\n",
            "270\n",
            "275\n",
            "280\n",
            "285\n",
            "290\n",
            "295\n",
            "300\n",
            "305\n",
            "310\n",
            "315\n",
            "320\n",
            "325\n",
            "330\n",
            "335\n",
            "340\n",
            "345\n",
            "350\n",
            "355\n",
            "360\n",
            "365\n",
            "370\n",
            "375\n",
            "380\n",
            "385\n",
            "390\n",
            "395\n",
            "400\n",
            "405\n",
            "410\n",
            "415\n",
            "420\n",
            "425\n",
            "430\n",
            "435\n",
            "440\n",
            "445\n",
            "450\n",
            "455\n",
            "460\n",
            "465\n",
            "470\n",
            "475\n",
            "480\n",
            "485\n",
            "490\n",
            "495\n",
            "500\n"
          ]
        }
      ]
    },
    {
      "cell_type": "code",
      "source": [
        "for i in range(1,101):\n",
        " S=i*21\n",
        " print(S)"
      ],
      "metadata": {
        "colab": {
          "base_uri": "https://localhost:8080/"
        },
        "id": "R39OUd9RZDG3",
        "outputId": "cd45103c-37e3-4674-c30d-d58a6b2bce35"
      },
      "execution_count": null,
      "outputs": [
        {
          "output_type": "stream",
          "name": "stdout",
          "text": [
            "21\n",
            "42\n",
            "63\n",
            "84\n",
            "105\n",
            "126\n",
            "147\n",
            "168\n",
            "189\n",
            "210\n",
            "231\n",
            "252\n",
            "273\n",
            "294\n",
            "315\n",
            "336\n",
            "357\n",
            "378\n",
            "399\n",
            "420\n",
            "441\n",
            "462\n",
            "483\n",
            "504\n",
            "525\n",
            "546\n",
            "567\n",
            "588\n",
            "609\n",
            "630\n",
            "651\n",
            "672\n",
            "693\n",
            "714\n",
            "735\n",
            "756\n",
            "777\n",
            "798\n",
            "819\n",
            "840\n",
            "861\n",
            "882\n",
            "903\n",
            "924\n",
            "945\n",
            "966\n",
            "987\n",
            "1008\n",
            "1029\n",
            "1050\n",
            "1071\n",
            "1092\n",
            "1113\n",
            "1134\n",
            "1155\n",
            "1176\n",
            "1197\n",
            "1218\n",
            "1239\n",
            "1260\n",
            "1281\n",
            "1302\n",
            "1323\n",
            "1344\n",
            "1365\n",
            "1386\n",
            "1407\n",
            "1428\n",
            "1449\n",
            "1470\n",
            "1491\n",
            "1512\n",
            "1533\n",
            "1554\n",
            "1575\n",
            "1596\n",
            "1617\n",
            "1638\n",
            "1659\n",
            "1680\n",
            "1701\n",
            "1722\n",
            "1743\n",
            "1764\n",
            "1785\n",
            "1806\n",
            "1827\n",
            "1848\n",
            "1869\n",
            "1890\n",
            "1911\n",
            "1932\n",
            "1953\n",
            "1974\n",
            "1995\n",
            "2016\n",
            "2037\n",
            "2058\n",
            "2079\n",
            "2100\n"
          ]
        }
      ]
    },
    {
      "cell_type": "code",
      "source": [
        "a=int(input())\n",
        "b=int(input())\n",
        "S=(a+b)**2\n",
        "print(S)"
      ],
      "metadata": {
        "colab": {
          "base_uri": "https://localhost:8080/"
        },
        "id": "ITMg-keVhZ-M",
        "outputId": "a10f95e5-081b-49cc-e8a7-1aafc937091f"
      },
      "execution_count": null,
      "outputs": [
        {
          "output_type": "stream",
          "name": "stdout",
          "text": [
            "3\n",
            "4\n",
            "49\n"
          ]
        }
      ]
    },
    {
      "cell_type": "code",
      "source": [
        "for i in range(50,100):\n",
        " print(i)"
      ],
      "metadata": {
        "colab": {
          "base_uri": "https://localhost:8080/"
        },
        "id": "tiJo4ejQh8yc",
        "outputId": "12091b96-bb17-4eb0-ecc1-4584ccc91b05"
      },
      "execution_count": null,
      "outputs": [
        {
          "output_type": "stream",
          "name": "stdout",
          "text": [
            "50\n",
            "51\n",
            "52\n",
            "53\n",
            "54\n",
            "55\n",
            "56\n",
            "57\n",
            "58\n",
            "59\n",
            "60\n",
            "61\n",
            "62\n",
            "63\n",
            "64\n",
            "65\n",
            "66\n",
            "67\n",
            "68\n",
            "69\n",
            "70\n",
            "71\n",
            "72\n",
            "73\n",
            "74\n",
            "75\n",
            "76\n",
            "77\n",
            "78\n",
            "79\n",
            "80\n",
            "81\n",
            "82\n",
            "83\n",
            "84\n",
            "85\n",
            "86\n",
            "87\n",
            "88\n",
            "89\n",
            "90\n",
            "91\n",
            "92\n",
            "93\n",
            "94\n",
            "95\n",
            "96\n",
            "97\n",
            "98\n",
            "99\n"
          ]
        }
      ]
    }
  ]
}