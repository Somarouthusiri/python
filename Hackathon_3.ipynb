{
  "nbformat": 4,
  "nbformat_minor": 0,
  "metadata": {
    "colab": {
      "provenance": [],
      "authorship_tag": "ABX9TyNB5zJhem3srYX7HQBgPG3r",
      "include_colab_link": true
    },
    "kernelspec": {
      "name": "python3",
      "display_name": "Python 3"
    },
    "language_info": {
      "name": "python"
    }
  },
  "cells": [
    {
      "cell_type": "markdown",
      "metadata": {
        "id": "view-in-github",
        "colab_type": "text"
      },
      "source": [
        "<a href=\"https://colab.research.google.com/github/Somarouthusiri/python/blob/main/Hackathon_3.ipynb\" target=\"_parent\"><img src=\"https://colab.research.google.com/assets/colab-badge.svg\" alt=\"Open In Colab\"/></a>"
      ]
    },
    {
      "cell_type": "code",
      "execution_count": null,
      "metadata": {
        "id": "tFloZvCXnoVM",
        "colab": {
          "base_uri": "https://localhost:8080/"
        },
        "outputId": "15e7e604-d37f-43e9-8f5e-67482f190c54"
      },
      "outputs": [
        {
          "output_type": "stream",
          "name": "stdout",
          "text": [
            "Name:SIRI\n",
            "Roll no:513\n",
            "Branch:AID\n",
            "collage:KIET\n"
          ]
        }
      ],
      "source": [
        "def greet():\n",
        "    print(\"Name:SIRI\")\n",
        "    print(\"Roll no:513\")\n",
        "    print(\"Branch:AID\")\n",
        "    print(\"collage:KIET\")\n",
        "greet()"
      ]
    },
    {
      "cell_type": "code",
      "source": [
        "a=int(input())\n",
        "print(a%7)"
      ],
      "metadata": {
        "colab": {
          "base_uri": "https://localhost:8080/"
        },
        "id": "iqN2PujbWSgy",
        "outputId": "6235edc6-4d38-4848-a090-7a08a4c24cad"
      },
      "execution_count": null,
      "outputs": [
        {
          "output_type": "stream",
          "name": "stdout",
          "text": [
            "12769\n",
            "1\n"
          ]
        }
      ]
    },
    {
      "cell_type": "code",
      "source": [
        "a=18\n",
        "b=bin(a)\n",
        "print(b)"
      ],
      "metadata": {
        "colab": {
          "base_uri": "https://localhost:8080/"
        },
        "id": "kj0nRflIXLXR",
        "outputId": "1c13e7dd-dcd8-4f3d-bc9b-fa85196a50fb"
      },
      "execution_count": null,
      "outputs": [
        {
          "output_type": "stream",
          "name": "stdout",
          "text": [
            "0b10010\n"
          ]
        }
      ]
    },
    {
      "cell_type": "code",
      "source": [
        "def number():\n",
        "    a=int(input(\"no:\"))\n",
        "    if(a%2==0):\n",
        "       print(\"even\")\n",
        "    else:\n",
        "       print(\"odd\")\n",
        "number()"
      ],
      "metadata": {
        "colab": {
          "base_uri": "https://localhost:8080/"
        },
        "id": "z6gz0P_yq8Hw",
        "outputId": "dac00d88-cb5d-459f-fa09-1e400ddaf45f"
      },
      "execution_count": null,
      "outputs": [
        {
          "output_type": "stream",
          "name": "stdout",
          "text": [
            "no:4\n",
            "even\n"
          ]
        }
      ]
    },
    {
      "cell_type": "code",
      "source": [
        "def number():\n",
        "    a=int(input(\"no:\"))\n",
        "    b=int(input(\"no:\"))\n",
        "    c=int(input(\"no:\"))\n",
        "    if a>b and a>c:\n",
        "      print(\"a\")\n",
        "    elif b>c and b>a:\n",
        "      print(\"b\")\n",
        "    else:\n",
        "      print(\"c\")\n",
        "number()"
      ],
      "metadata": {
        "colab": {
          "base_uri": "https://localhost:8080/"
        },
        "id": "TbP3IPrusYoX",
        "outputId": "4851e3cc-2f0a-4524-8237-fa8f153f6947"
      },
      "execution_count": null,
      "outputs": [
        {
          "name": "stdout",
          "output_type": "stream",
          "text": [
            "no:3\n",
            "no:4\n"
          ]
        }
      ]
    },
    {
      "cell_type": "code",
      "source": [
        "def Count_vowels(input_string):\n",
        "    vowels = \"aeiouAEIOU\"\n",
        "    count = 0\n",
        "    for r in input_string:\n",
        "        if r in vowels:\n",
        "            count += 1\n",
        "    print(f\"Number of vowels: {count}\")\n",
        "Count_vowels(\"Siri Bhuvaneswari\")"
      ],
      "metadata": {
        "colab": {
          "base_uri": "https://localhost:8080/"
        },
        "id": "j4SJMoLDwDpD",
        "outputId": "2b4089d0-3b17-494f-87c4-316030afed83"
      },
      "execution_count": null,
      "outputs": [
        {
          "output_type": "stream",
          "name": "stdout",
          "text": [
            "Number of vowels: 7\n"
          ]
        }
      ]
    },
    {
      "cell_type": "code",
      "source": [
        "for i in range(10,100):\n",
        " print(i)"
      ],
      "metadata": {
        "colab": {
          "base_uri": "https://localhost:8080/"
        },
        "id": "c44-6pctHVKc",
        "outputId": "a82a977f-fe12-4871-8f05-d87f64a8f337"
      },
      "execution_count": null,
      "outputs": [
        {
          "output_type": "stream",
          "name": "stdout",
          "text": [
            "10\n",
            "11\n",
            "12\n",
            "13\n",
            "14\n",
            "15\n",
            "16\n",
            "17\n",
            "18\n",
            "19\n",
            "20\n",
            "21\n",
            "22\n",
            "23\n",
            "24\n",
            "25\n",
            "26\n",
            "27\n",
            "28\n",
            "29\n",
            "30\n",
            "31\n",
            "32\n",
            "33\n",
            "34\n",
            "35\n",
            "36\n",
            "37\n",
            "38\n",
            "39\n",
            "40\n",
            "41\n",
            "42\n",
            "43\n",
            "44\n",
            "45\n",
            "46\n",
            "47\n",
            "48\n",
            "49\n",
            "50\n",
            "51\n",
            "52\n",
            "53\n",
            "54\n",
            "55\n",
            "56\n",
            "57\n",
            "58\n",
            "59\n",
            "60\n",
            "61\n",
            "62\n",
            "63\n",
            "64\n",
            "65\n",
            "66\n",
            "67\n",
            "68\n",
            "69\n",
            "70\n",
            "71\n",
            "72\n",
            "73\n",
            "74\n",
            "75\n",
            "76\n",
            "77\n",
            "78\n",
            "79\n",
            "80\n",
            "81\n",
            "82\n",
            "83\n",
            "84\n",
            "85\n",
            "86\n",
            "87\n",
            "88\n",
            "89\n",
            "90\n",
            "91\n",
            "92\n",
            "93\n",
            "94\n",
            "95\n",
            "96\n",
            "97\n",
            "98\n",
            "99\n"
          ]
        }
      ]
    }
  ]
}